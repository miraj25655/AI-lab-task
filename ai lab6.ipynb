{
 "cells": [
  {
   "cell_type": "code",
   "execution_count": 7,
   "id": "1dd34ded-be10-421c-b358-555a6658a66a",
   "metadata": {},
   "outputs": [
    {
     "name": "stdout",
     "output_type": "stream",
     "text": [
      "with Queue: 0 1 2 3 4 5 \n"
     ]
    }
   ],
   "source": [
    "\n",
    "\n",
    "def bfs_with_queue(graph, start):\n",
    "    visited = set()\n",
    "    queue = deque([start])\n",
    "    visited.add(start)\n",
    "\n",
    "    print(\"with Queue:\", end=\" \")\n",
    "    while queue:\n",
    "        node = queue.popleft()\n",
    "        print(node, end=\" \")\n",
    "        for neighbor in graph[node]:\n",
    "            if neighbor not in visited:\n",
    "                visited.add(neighbor)\n",
    "                queue.append(neighbor)\n",
    "    print()\n",
    "\n",
    "graph = {\n",
    "    0: [1, 2],\n",
    "    1: [0, 3, 4],\n",
    "    2: [0, 5],\n",
    "    3: [1],\n",
    "    4: [1, 5],\n",
    "    5: [2, 4]\n",
    "}\n",
    "\n",
    "bfs_with_queue(graph, 0)\n"
   ]
  },
  {
   "cell_type": "code",
   "execution_count": 6,
   "id": "01157a80-6bd6-4018-b0e2-ad7dcf5b07fd",
   "metadata": {},
   "outputs": [
    {
     "name": "stdout",
     "output_type": "stream",
     "text": [
      "without Queue: 0 1 2 3 4 5 \n"
     ]
    }
   ],
   "source": [
    "def bfs_level(graph, current_level, visited):\n",
    "    if not current_level:\n",
    "        return\n",
    "\n",
    "    next_level = []\n",
    "\n",
    "    for node in current_level:\n",
    "        if node not in visited:\n",
    "            print(node, end=\" \")\n",
    "            visited.add(node)\n",
    "            \n",
    "            for neighbor in graph[node]:\n",
    "                if neighbor not in visited:\n",
    "                    next_level.append(neighbor)\n",
    "\n",
    "    \n",
    "    bfs_level(graph, next_level, visited)\n",
    "\n",
    "def bfs_without_queue(graph, start):\n",
    "    visited = set()\n",
    "    print(\"without Queue:\", end=\" \")\n",
    "    bfs_level(graph, [start], visited)\n",
    "    print()\n",
    "\n",
    "\n",
    "graph = {\n",
    "    0: [1, 2],\n",
    "    1: [0, 3, 4],\n",
    "    2: [0, 5],\n",
    "    3: [1],\n",
    "    4: [1, 5],\n",
    "    5: [2, 4]\n",
    "}\n",
    "\n",
    "\n",
    "bfs_without_queue(graph, 0)\n"
   ]
  },
  {
   "cell_type": "code",
   "execution_count": null,
   "id": "a8acc6c2-0c9a-4290-8d75-42357b173e26",
   "metadata": {},
   "outputs": [],
   "source": []
  }
 ],
 "metadata": {
  "kernelspec": {
   "display_name": "Python [conda env:base] *",
   "language": "python",
   "name": "conda-base-py"
  },
  "language_info": {
   "codemirror_mode": {
    "name": "ipython",
    "version": 3
   },
   "file_extension": ".py",
   "mimetype": "text/x-python",
   "name": "python",
   "nbconvert_exporter": "python",
   "pygments_lexer": "ipython3",
   "version": "3.13.5"
  }
 },
 "nbformat": 4,
 "nbformat_minor": 5
}
